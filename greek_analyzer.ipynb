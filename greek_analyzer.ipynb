{
  "nbformat": 4,
  "nbformat_minor": 0,
  "metadata": {
    "colab": {
      "name": "greek_analyzer.ipynb",
      "provenance": [],
      "collapsed_sections": [],
      "authorship_tag": "ABX9TyNakUlGSH1KLRg+HTAwT5mk",
      "include_colab_link": true
    },
    "kernelspec": {
      "name": "python3",
      "display_name": "Python 3"
    },
    "language_info": {
      "name": "python"
    },
    "widgets": {
      "application/vnd.jupyter.widget-state+json": {
        "44e883a61c3f41f09806c75f5393f57c": {
          "model_module": "@jupyter-widgets/controls",
          "model_name": "HBoxModel",
          "model_module_version": "1.5.0",
          "state": {
            "_dom_classes": [],
            "_model_module": "@jupyter-widgets/controls",
            "_model_module_version": "1.5.0",
            "_model_name": "HBoxModel",
            "_view_count": null,
            "_view_module": "@jupyter-widgets/controls",
            "_view_module_version": "1.5.0",
            "_view_name": "HBoxView",
            "box_style": "",
            "children": [
              "IPY_MODEL_00cc0a1f96c44ae99e87d078931029ad",
              "IPY_MODEL_6c96250fc5e44edbb55213b51ca55107",
              "IPY_MODEL_8501e5a45d014c33b3884eea4cbde6a3"
            ],
            "layout": "IPY_MODEL_8da95a1886514ed1a0e2eca79915d138"
          }
        },
        "00cc0a1f96c44ae99e87d078931029ad": {
          "model_module": "@jupyter-widgets/controls",
          "model_name": "HTMLModel",
          "model_module_version": "1.5.0",
          "state": {
            "_dom_classes": [],
            "_model_module": "@jupyter-widgets/controls",
            "_model_module_version": "1.5.0",
            "_model_name": "HTMLModel",
            "_view_count": null,
            "_view_module": "@jupyter-widgets/controls",
            "_view_module_version": "1.5.0",
            "_view_name": "HTMLView",
            "description": "",
            "description_tooltip": null,
            "layout": "IPY_MODEL_df4a9d4e212f4d1e9179ee208ed1cfc8",
            "placeholder": "​",
            "style": "IPY_MODEL_eedd7c19a0ad48d28ed062e6bfc9af2a",
            "value": "Downloading https://raw.githubusercontent.com/stanfordnlp/stanza-resources/main/resources_1.4.0.json: "
          }
        },
        "6c96250fc5e44edbb55213b51ca55107": {
          "model_module": "@jupyter-widgets/controls",
          "model_name": "FloatProgressModel",
          "model_module_version": "1.5.0",
          "state": {
            "_dom_classes": [],
            "_model_module": "@jupyter-widgets/controls",
            "_model_module_version": "1.5.0",
            "_model_name": "FloatProgressModel",
            "_view_count": null,
            "_view_module": "@jupyter-widgets/controls",
            "_view_module_version": "1.5.0",
            "_view_name": "ProgressView",
            "bar_style": "success",
            "description": "",
            "description_tooltip": null,
            "layout": "IPY_MODEL_79cfb87e69fd495d9e00e3352b92dd85",
            "max": 25998,
            "min": 0,
            "orientation": "horizontal",
            "style": "IPY_MODEL_a7680aa04012487e9dd2d42dd3b0161a",
            "value": 25998
          }
        },
        "8501e5a45d014c33b3884eea4cbde6a3": {
          "model_module": "@jupyter-widgets/controls",
          "model_name": "HTMLModel",
          "model_module_version": "1.5.0",
          "state": {
            "_dom_classes": [],
            "_model_module": "@jupyter-widgets/controls",
            "_model_module_version": "1.5.0",
            "_model_name": "HTMLModel",
            "_view_count": null,
            "_view_module": "@jupyter-widgets/controls",
            "_view_module_version": "1.5.0",
            "_view_name": "HTMLView",
            "description": "",
            "description_tooltip": null,
            "layout": "IPY_MODEL_6f06ee72a5d040b28c5b79887a9e05eb",
            "placeholder": "​",
            "style": "IPY_MODEL_03b3788457f54b5b968ed61667f3f7ac",
            "value": " 154k/? [00:00&lt;00:00, 2.51MB/s]"
          }
        },
        "8da95a1886514ed1a0e2eca79915d138": {
          "model_module": "@jupyter-widgets/base",
          "model_name": "LayoutModel",
          "model_module_version": "1.2.0",
          "state": {
            "_model_module": "@jupyter-widgets/base",
            "_model_module_version": "1.2.0",
            "_model_name": "LayoutModel",
            "_view_count": null,
            "_view_module": "@jupyter-widgets/base",
            "_view_module_version": "1.2.0",
            "_view_name": "LayoutView",
            "align_content": null,
            "align_items": null,
            "align_self": null,
            "border": null,
            "bottom": null,
            "display": null,
            "flex": null,
            "flex_flow": null,
            "grid_area": null,
            "grid_auto_columns": null,
            "grid_auto_flow": null,
            "grid_auto_rows": null,
            "grid_column": null,
            "grid_gap": null,
            "grid_row": null,
            "grid_template_areas": null,
            "grid_template_columns": null,
            "grid_template_rows": null,
            "height": null,
            "justify_content": null,
            "justify_items": null,
            "left": null,
            "margin": null,
            "max_height": null,
            "max_width": null,
            "min_height": null,
            "min_width": null,
            "object_fit": null,
            "object_position": null,
            "order": null,
            "overflow": null,
            "overflow_x": null,
            "overflow_y": null,
            "padding": null,
            "right": null,
            "top": null,
            "visibility": null,
            "width": null
          }
        },
        "df4a9d4e212f4d1e9179ee208ed1cfc8": {
          "model_module": "@jupyter-widgets/base",
          "model_name": "LayoutModel",
          "model_module_version": "1.2.0",
          "state": {
            "_model_module": "@jupyter-widgets/base",
            "_model_module_version": "1.2.0",
            "_model_name": "LayoutModel",
            "_view_count": null,
            "_view_module": "@jupyter-widgets/base",
            "_view_module_version": "1.2.0",
            "_view_name": "LayoutView",
            "align_content": null,
            "align_items": null,
            "align_self": null,
            "border": null,
            "bottom": null,
            "display": null,
            "flex": null,
            "flex_flow": null,
            "grid_area": null,
            "grid_auto_columns": null,
            "grid_auto_flow": null,
            "grid_auto_rows": null,
            "grid_column": null,
            "grid_gap": null,
            "grid_row": null,
            "grid_template_areas": null,
            "grid_template_columns": null,
            "grid_template_rows": null,
            "height": null,
            "justify_content": null,
            "justify_items": null,
            "left": null,
            "margin": null,
            "max_height": null,
            "max_width": null,
            "min_height": null,
            "min_width": null,
            "object_fit": null,
            "object_position": null,
            "order": null,
            "overflow": null,
            "overflow_x": null,
            "overflow_y": null,
            "padding": null,
            "right": null,
            "top": null,
            "visibility": null,
            "width": null
          }
        },
        "eedd7c19a0ad48d28ed062e6bfc9af2a": {
          "model_module": "@jupyter-widgets/controls",
          "model_name": "DescriptionStyleModel",
          "model_module_version": "1.5.0",
          "state": {
            "_model_module": "@jupyter-widgets/controls",
            "_model_module_version": "1.5.0",
            "_model_name": "DescriptionStyleModel",
            "_view_count": null,
            "_view_module": "@jupyter-widgets/base",
            "_view_module_version": "1.2.0",
            "_view_name": "StyleView",
            "description_width": ""
          }
        },
        "79cfb87e69fd495d9e00e3352b92dd85": {
          "model_module": "@jupyter-widgets/base",
          "model_name": "LayoutModel",
          "model_module_version": "1.2.0",
          "state": {
            "_model_module": "@jupyter-widgets/base",
            "_model_module_version": "1.2.0",
            "_model_name": "LayoutModel",
            "_view_count": null,
            "_view_module": "@jupyter-widgets/base",
            "_view_module_version": "1.2.0",
            "_view_name": "LayoutView",
            "align_content": null,
            "align_items": null,
            "align_self": null,
            "border": null,
            "bottom": null,
            "display": null,
            "flex": null,
            "flex_flow": null,
            "grid_area": null,
            "grid_auto_columns": null,
            "grid_auto_flow": null,
            "grid_auto_rows": null,
            "grid_column": null,
            "grid_gap": null,
            "grid_row": null,
            "grid_template_areas": null,
            "grid_template_columns": null,
            "grid_template_rows": null,
            "height": null,
            "justify_content": null,
            "justify_items": null,
            "left": null,
            "margin": null,
            "max_height": null,
            "max_width": null,
            "min_height": null,
            "min_width": null,
            "object_fit": null,
            "object_position": null,
            "order": null,
            "overflow": null,
            "overflow_x": null,
            "overflow_y": null,
            "padding": null,
            "right": null,
            "top": null,
            "visibility": null,
            "width": null
          }
        },
        "a7680aa04012487e9dd2d42dd3b0161a": {
          "model_module": "@jupyter-widgets/controls",
          "model_name": "ProgressStyleModel",
          "model_module_version": "1.5.0",
          "state": {
            "_model_module": "@jupyter-widgets/controls",
            "_model_module_version": "1.5.0",
            "_model_name": "ProgressStyleModel",
            "_view_count": null,
            "_view_module": "@jupyter-widgets/base",
            "_view_module_version": "1.2.0",
            "_view_name": "StyleView",
            "bar_color": null,
            "description_width": ""
          }
        },
        "6f06ee72a5d040b28c5b79887a9e05eb": {
          "model_module": "@jupyter-widgets/base",
          "model_name": "LayoutModel",
          "model_module_version": "1.2.0",
          "state": {
            "_model_module": "@jupyter-widgets/base",
            "_model_module_version": "1.2.0",
            "_model_name": "LayoutModel",
            "_view_count": null,
            "_view_module": "@jupyter-widgets/base",
            "_view_module_version": "1.2.0",
            "_view_name": "LayoutView",
            "align_content": null,
            "align_items": null,
            "align_self": null,
            "border": null,
            "bottom": null,
            "display": null,
            "flex": null,
            "flex_flow": null,
            "grid_area": null,
            "grid_auto_columns": null,
            "grid_auto_flow": null,
            "grid_auto_rows": null,
            "grid_column": null,
            "grid_gap": null,
            "grid_row": null,
            "grid_template_areas": null,
            "grid_template_columns": null,
            "grid_template_rows": null,
            "height": null,
            "justify_content": null,
            "justify_items": null,
            "left": null,
            "margin": null,
            "max_height": null,
            "max_width": null,
            "min_height": null,
            "min_width": null,
            "object_fit": null,
            "object_position": null,
            "order": null,
            "overflow": null,
            "overflow_x": null,
            "overflow_y": null,
            "padding": null,
            "right": null,
            "top": null,
            "visibility": null,
            "width": null
          }
        },
        "03b3788457f54b5b968ed61667f3f7ac": {
          "model_module": "@jupyter-widgets/controls",
          "model_name": "DescriptionStyleModel",
          "model_module_version": "1.5.0",
          "state": {
            "_model_module": "@jupyter-widgets/controls",
            "_model_module_version": "1.5.0",
            "_model_name": "DescriptionStyleModel",
            "_view_count": null,
            "_view_module": "@jupyter-widgets/base",
            "_view_module_version": "1.2.0",
            "_view_name": "StyleView",
            "description_width": ""
          }
        }
      }
    }
  },
  "cells": [
    {
      "cell_type": "markdown",
      "metadata": {
        "id": "view-in-github",
        "colab_type": "text"
      },
      "source": [
        "<a href=\"https://colab.research.google.com/github/OdysseusPolymetis/stanza_greek_tagger/blob/main/greek_analyzer.ipynb\" target=\"_parent\"><img src=\"https://colab.research.google.com/assets/colab-badge.svg\" alt=\"Open In Colab\"/></a>"
      ]
    },
    {
      "cell_type": "markdown",
      "source": [
        "#<center>**Lemmatisation, postagging et features pour le grec**</center>"
      ],
      "metadata": {
        "id": "o5EXjjMu7d57"
      }
    },
    {
      "cell_type": "markdown",
      "source": [
        "Ce script permet d'analyser des fichiers en grec qui sont soit des **CSV** soit des fichiers **TXT**. Les fichiers **DOIVENT être encodés en UTF8**."
      ],
      "metadata": {
        "id": "uBE4QHJu7t5K"
      }
    },
    {
      "cell_type": "code",
      "execution_count": 1,
      "metadata": {
        "colab": {
          "base_uri": "https://localhost:8080/"
        },
        "id": "8gA1unGuUSid",
        "outputId": "e5af433e-e49e-4d2a-b63a-3747c83284d7"
      },
      "outputs": [
        {
          "output_type": "stream",
          "name": "stdout",
          "text": [
            "Looking in indexes: https://pypi.org/simple, https://us-python.pkg.dev/colab-wheels/public/simple/\n",
            "Collecting stanza\n",
            "  Downloading stanza-1.4.0-py3-none-any.whl (574 kB)\n",
            "\u001b[K     |████████████████████████████████| 574 kB 12.8 MB/s \n",
            "\u001b[?25hRequirement already satisfied: protobuf in /usr/local/lib/python3.7/dist-packages (from stanza) (3.17.3)\n",
            "Requirement already satisfied: six in /usr/local/lib/python3.7/dist-packages (from stanza) (1.15.0)\n",
            "Requirement already satisfied: requests in /usr/local/lib/python3.7/dist-packages (from stanza) (2.23.0)\n",
            "Collecting emoji\n",
            "  Downloading emoji-1.7.0.tar.gz (175 kB)\n",
            "\u001b[K     |████████████████████████████████| 175 kB 52.6 MB/s \n",
            "\u001b[?25hRequirement already satisfied: tqdm in /usr/local/lib/python3.7/dist-packages (from stanza) (4.64.0)\n",
            "Requirement already satisfied: numpy in /usr/local/lib/python3.7/dist-packages (from stanza) (1.21.6)\n",
            "Collecting transformers\n",
            "  Downloading transformers-4.19.4-py3-none-any.whl (4.2 MB)\n",
            "\u001b[K     |████████████████████████████████| 4.2 MB 50.6 MB/s \n",
            "\u001b[?25hRequirement already satisfied: torch>=1.3.0 in /usr/local/lib/python3.7/dist-packages (from stanza) (1.11.0+cu113)\n",
            "Requirement already satisfied: typing-extensions in /usr/local/lib/python3.7/dist-packages (from torch>=1.3.0->stanza) (4.2.0)\n",
            "Requirement already satisfied: idna<3,>=2.5 in /usr/local/lib/python3.7/dist-packages (from requests->stanza) (2.10)\n",
            "Requirement already satisfied: chardet<4,>=3.0.2 in /usr/local/lib/python3.7/dist-packages (from requests->stanza) (3.0.4)\n",
            "Requirement already satisfied: certifi>=2017.4.17 in /usr/local/lib/python3.7/dist-packages (from requests->stanza) (2022.5.18.1)\n",
            "Requirement already satisfied: urllib3!=1.25.0,!=1.25.1,<1.26,>=1.21.1 in /usr/local/lib/python3.7/dist-packages (from requests->stanza) (1.24.3)\n",
            "Requirement already satisfied: importlib-metadata in /usr/local/lib/python3.7/dist-packages (from transformers->stanza) (4.11.4)\n",
            "Collecting pyyaml>=5.1\n",
            "  Downloading PyYAML-6.0-cp37-cp37m-manylinux_2_5_x86_64.manylinux1_x86_64.manylinux_2_12_x86_64.manylinux2010_x86_64.whl (596 kB)\n",
            "\u001b[K     |████████████████████████████████| 596 kB 37.0 MB/s \n",
            "\u001b[?25hRequirement already satisfied: regex!=2019.12.17 in /usr/local/lib/python3.7/dist-packages (from transformers->stanza) (2022.6.2)\n",
            "Collecting huggingface-hub<1.0,>=0.1.0\n",
            "  Downloading huggingface_hub-0.7.0-py3-none-any.whl (86 kB)\n",
            "\u001b[K     |████████████████████████████████| 86 kB 3.0 MB/s \n",
            "\u001b[?25hCollecting tokenizers!=0.11.3,<0.13,>=0.11.1\n",
            "  Downloading tokenizers-0.12.1-cp37-cp37m-manylinux_2_12_x86_64.manylinux2010_x86_64.whl (6.6 MB)\n",
            "\u001b[K     |████████████████████████████████| 6.6 MB 44.4 MB/s \n",
            "\u001b[?25hRequirement already satisfied: filelock in /usr/local/lib/python3.7/dist-packages (from transformers->stanza) (3.7.1)\n",
            "Requirement already satisfied: packaging>=20.0 in /usr/local/lib/python3.7/dist-packages (from transformers->stanza) (21.3)\n",
            "Requirement already satisfied: pyparsing!=3.0.5,>=2.0.2 in /usr/local/lib/python3.7/dist-packages (from packaging>=20.0->transformers->stanza) (3.0.9)\n",
            "Requirement already satisfied: zipp>=0.5 in /usr/local/lib/python3.7/dist-packages (from importlib-metadata->transformers->stanza) (3.8.0)\n",
            "Building wheels for collected packages: emoji\n",
            "  Building wheel for emoji (setup.py) ... \u001b[?25l\u001b[?25hdone\n",
            "  Created wheel for emoji: filename=emoji-1.7.0-py3-none-any.whl size=171046 sha256=e0f595b13aa8601ba27f0fa84bd2c6ee31ea157b5d7254e599d5f841de4e1fe5\n",
            "  Stored in directory: /root/.cache/pip/wheels/8a/4e/b6/57b01db010d17ef6ea9b40300af725ef3e210cb1acfb7ac8b6\n",
            "Successfully built emoji\n",
            "Installing collected packages: pyyaml, tokenizers, huggingface-hub, transformers, emoji, stanza\n",
            "  Attempting uninstall: pyyaml\n",
            "    Found existing installation: PyYAML 3.13\n",
            "    Uninstalling PyYAML-3.13:\n",
            "      Successfully uninstalled PyYAML-3.13\n",
            "Successfully installed emoji-1.7.0 huggingface-hub-0.7.0 pyyaml-6.0 stanza-1.4.0 tokenizers-0.12.1 transformers-4.19.4\n"
          ]
        }
      ],
      "source": [
        "#Exécuter la cellule (avec le signe play sur le côté)\n",
        "#Ne pas changer : c'est la partie où google télécharge stanza.\n",
        "\n",
        "!pip install stanza"
      ]
    },
    {
      "cell_type": "code",
      "source": [
        "#Bien attendre que la cellule précédente ait fini de s'exécuter. On le voit quand le signe play ne bouge plus ou que le logo google\n",
        "#sur l'onglet du navigateur redevient orange (et non gris)\n",
        "\n",
        "import sys\n",
        "sys.path.insert(0,'/content')"
      ],
      "metadata": {
        "id": "7QmEHBY-UrYP"
      },
      "execution_count": 17,
      "outputs": []
    },
    {
      "cell_type": "markdown",
      "source": [
        "C'est dans la cellule qui suit qu'on va déterminer le fichier à analyser. Ce fichier doit se trouver sur un google drive et être disponible pour tout utilisateur possédant le lien de partage.\n",
        "<br><br>Quand on a le lien, il faut identifier l'identifiant du fichier, ou \"id\". Cet \"id\" c'est généralement ce qui exclut à la fois `drive.google.com/file/d/` et `/view?usp=sharing`. Exemple, pour un fichier `https://drive.google.com/file/d/1GgB1A1pT1IUL8uaoReF91OZvhLdcdz9p/view?usp=sharing`, l'\"id\" est `1GgB1A1pT1IUL8uaoReF91OZvhLdcdz9p`.\n",
        "<br><br>Dans la cellule qui suit, vous devrez donc prendre votre \"id\", et le coller exactement à la ligne `id=\"1P1eZnW75XBhdYk9EoVjV-kCRU4-1_8aH\"` à la place de l'identifiant déjà présent, sans enlever `id=` ou les guillemets (l'identifiant doit être entre guillemets).\n",
        "<br><br>Il faut aussi, en fonction du fichier que vous souhaitez analyser, préciser l'extension (CSV ou TXT). Il faut donc changer la variable `extension` dans la cellule qui suit, en conservant bien les guillemets. Exemple : `extension=\"txt\"`"
      ],
      "metadata": {
        "id": "6W7dMIVG8dpC"
      }
    },
    {
      "cell_type": "code",
      "source": [
        "#Exécuter cette cellule\n",
        "\n",
        "import gdown\n",
        "import os\n",
        "\n",
        "if os.path.exists('./data/')==False:\n",
        "  os.mkdir('./data/')\n",
        "prefix=\"https://drive.google.com/uc?id=\"\n",
        "id=\"1P1eZnW75XBhdYk9EoVjV-kCRU4-1_8aH\"\n",
        "url=prefix+id\n",
        "extension=\"txt\"\n",
        "output='./data/text_to_analyze.'+extension\n",
        "gdown.download(url, output, quiet=False)"
      ],
      "metadata": {
        "colab": {
          "base_uri": "https://localhost:8080/",
          "height": 105
        },
        "id": "BxGXuqNEl-3n",
        "outputId": "abe6bb9e-44e7-4e52-fee9-26d01a65bfea"
      },
      "execution_count": 33,
      "outputs": [
        {
          "output_type": "stream",
          "name": "stderr",
          "text": [
            "Downloading...\n",
            "From: https://drive.google.com/uc?id=1P1eZnW75XBhdYk9EoVjV-kCRU4-1_8aH\n",
            "To: /content/data/text_to_analyze.txt\n",
            "100%|██████████| 6.06M/6.06M [00:00<00:00, 194MB/s]\n"
          ]
        },
        {
          "output_type": "execute_result",
          "data": {
            "text/plain": [
              "'./data/text_to_analyze.txt'"
            ],
            "application/vnd.google.colaboratory.intrinsic+json": {
              "type": "string"
            }
          },
          "metadata": {},
          "execution_count": 33
        }
      ]
    },
    {
      "cell_type": "code",
      "source": [
        "#Exécuter cette cellule\n",
        "\n",
        "import glob\n",
        "import stanza\n",
        "from pathlib import Path\n",
        "import csv\n",
        "import pandas as pd"
      ],
      "metadata": {
        "id": "FG8VgJcsXEzw"
      },
      "execution_count": 34,
      "outputs": []
    },
    {
      "cell_type": "code",
      "source": [
        "#Exécuter cette cellule\n",
        "\n",
        "nlp_grc = stanza.Pipeline('grc', processors='tokenize,lemma,pos,depparse')"
      ],
      "metadata": {
        "colab": {
          "base_uri": "https://localhost:8080/",
          "height": 355,
          "referenced_widgets": [
            "44e883a61c3f41f09806c75f5393f57c",
            "00cc0a1f96c44ae99e87d078931029ad",
            "6c96250fc5e44edbb55213b51ca55107",
            "8501e5a45d014c33b3884eea4cbde6a3",
            "8da95a1886514ed1a0e2eca79915d138",
            "df4a9d4e212f4d1e9179ee208ed1cfc8",
            "eedd7c19a0ad48d28ed062e6bfc9af2a",
            "79cfb87e69fd495d9e00e3352b92dd85",
            "a7680aa04012487e9dd2d42dd3b0161a",
            "6f06ee72a5d040b28c5b79887a9e05eb",
            "03b3788457f54b5b968ed61667f3f7ac"
          ]
        },
        "id": "bQ_nl5j0V9kP",
        "outputId": "edbfde78-b991-4941-a303-7ae92bacaeb2"
      },
      "execution_count": 35,
      "outputs": [
        {
          "output_type": "display_data",
          "data": {
            "text/plain": [
              "Downloading https://raw.githubusercontent.com/stanfordnlp/stanza-resources/main/resources_1.4.0.json:   0%|   …"
            ],
            "application/vnd.jupyter.widget-view+json": {
              "version_major": 2,
              "version_minor": 0,
              "model_id": "44e883a61c3f41f09806c75f5393f57c"
            }
          },
          "metadata": {}
        },
        {
          "output_type": "stream",
          "name": "stderr",
          "text": [
            "2022-06-14 11:14:08 INFO: Loading these models for language: grc (Ancient_Greek):\n",
            "=======================\n",
            "| Processor | Package |\n",
            "-----------------------\n",
            "| tokenize  | proiel  |\n",
            "| pos       | proiel  |\n",
            "| lemma     | proiel  |\n",
            "| depparse  | proiel  |\n",
            "=======================\n",
            "\n",
            "2022-06-14 11:14:08 INFO: Use device: cpu\n",
            "2022-06-14 11:14:08 INFO: Loading: tokenize\n",
            "2022-06-14 11:14:08 INFO: Loading: pos\n",
            "2022-06-14 11:14:08 INFO: Loading: lemma\n",
            "2022-06-14 11:14:08 INFO: Loading: depparse\n",
            "2022-06-14 11:14:09 INFO: Done loading processors!\n"
          ]
        }
      ]
    },
    {
      "cell_type": "markdown",
      "source": [
        "#**Partie à exécuter seulement si on a un CSV de base**"
      ],
      "metadata": {
        "id": "ekPTd6s1m713"
      }
    },
    {
      "cell_type": "markdown",
      "source": [
        "Pour que cela fonctionne, vous devez avoir un **CSV** en **UTF8**, séparé par des **tabulations**.\n",
        "<br>Le résultat des analyses sera dans un dossier `results` visible sur le côté du google colab.\n",
        "<br><br>La variable `column_name` doit avoir la valeur du nom de votre colonne CSV qui contient les formes grecques. Ne pas oublier de bien conserver les guillemets. Changer comme suit, exemple : `column_name=\"text_form\"` si la colonne a pour titre text_form."
      ],
      "metadata": {
        "id": "kUuA83VL-FbP"
      }
    },
    {
      "cell_type": "code",
      "source": [
        "column_name=\"word\""
      ],
      "metadata": {
        "id": "zRjjsrRbIthS"
      },
      "execution_count": null,
      "outputs": []
    },
    {
      "cell_type": "code",
      "source": [
        "files= glob.iglob('/content/data/**/*.csv', recursive=True)\n",
        "headers=['Word','Lemma','POS','Features']\n",
        "for filename in files :\n",
        "    path=Path(filename).stem\n",
        "    if os.path.exists('./results/')==False:\n",
        "        os.mkdir('./results/')\n",
        "    with open('./results/'+path+'.csv', 'w', newline='') as outcsv:\n",
        "        number_occurrences=0\n",
        "        writer = csv.writer(outcsv)\n",
        "        writer.writerow(headers)\n",
        "        print(filename)\n",
        "        df = pd.read_csv(filename, sep='\\t')\n",
        "        words = df[column_name].tolist()\n",
        "        print(\"Il y a \"+str(len(words))+\" formes à analyser.\")\n",
        "        gktxt = \" \".join(words)\n",
        "        grc_analyzed = nlp_grc(gktxt)\n",
        "        for sent in grc_analyzed.sentences:\n",
        "          for word in sent.words:\n",
        "            row=list()\n",
        "            row.append(word.text)\n",
        "            row.append(word.lemma)\n",
        "            row.append(word.upos)\n",
        "            row.append(word.feats)\n",
        "            writer.writerow(row)"
      ],
      "metadata": {
        "id": "Wp_kNabPV6Gs",
        "colab": {
          "base_uri": "https://localhost:8080/"
        },
        "outputId": "1b41f7cd-2ba3-4715-dea4-1bb887e4e6c8"
      },
      "execution_count": 21,
      "outputs": [
        {
          "output_type": "stream",
          "name": "stdout",
          "text": [
            "/content/data/PHAT_VAT_GRC__RNN_1-10000.csv\n",
            "Il y a 10000 formes à analyser.\n",
            "Formes analysées : 1000/10000\n",
            "Formes analysées : 2000/10000\n",
            "Formes analysées : 3000/10000\n",
            "Formes analysées : 4000/10000\n",
            "Formes analysées : 5000/10000\n",
            "Formes analysées : 6000/10000\n",
            "Formes analysées : 7000/10000\n",
            "Formes analysées : 8000/10000\n",
            "Formes analysées : 9000/10000\n",
            "Formes analysées : 10000/10000\n"
          ]
        }
      ]
    },
    {
      "cell_type": "markdown",
      "source": [
        "#**Partie à exécuter seulement si le fichier de base est un TXT**"
      ],
      "metadata": {
        "id": "t2VK8FHfnIP9"
      }
    },
    {
      "cell_type": "markdown",
      "source": [
        "Pour que cela fonctionne, vous devez avoir un **TXT** en **UTF8**.\n",
        "<br>Le résultat des analyses sera dans un dossier `results` visible sur le côté du google colab."
      ],
      "metadata": {
        "id": "vtAcSFFa-e0f"
      }
    },
    {
      "cell_type": "code",
      "source": [
        "files= glob.iglob('/content/data/**/*.txt', recursive=True)\n",
        "headers=['Word','Lemma','POS','Features']\n",
        "for filename in files :\n",
        "    path=Path(filename).stem\n",
        "    if os.path.exists('./results/')==False:\n",
        "        os.mkdir('./results/')\n",
        "    with open('./results/'+path+'.csv', 'w', newline='') as outcsv:\n",
        "        writer = csv.writer(outcsv)\n",
        "        writer.writerow(headers)\n",
        "        print(filename)\n",
        "        gktxt=open(filename, encoding=\"utf8\").read()\n",
        "        grc_analyzed = nlp_grc(gktxt)\n",
        "        for sent in grc_analyzed.sentences:\n",
        "          for word in sent.words:\n",
        "            row=list()\n",
        "            row.append(word.text)\n",
        "            row.append(word.lemma)\n",
        "            row.append(word.upos)\n",
        "            row.append(word.feats)\n",
        "            writer.writerow(row)"
      ],
      "metadata": {
        "colab": {
          "base_uri": "https://localhost:8080/"
        },
        "id": "5DQk5PpiLgUm",
        "outputId": "ceb1265a-2801-44b4-aa03-82656ac8e9e5"
      },
      "execution_count": 36,
      "outputs": [
        {
          "output_type": "stream",
          "name": "stdout",
          "text": [
            "/content/data/text_to_analyze.txt\n"
          ]
        }
      ]
    },
    {
      "cell_type": "code",
      "source": [
        ""
      ],
      "metadata": {
        "id": "phv-sKIMoN1W"
      },
      "execution_count": null,
      "outputs": []
    }
  ]
}